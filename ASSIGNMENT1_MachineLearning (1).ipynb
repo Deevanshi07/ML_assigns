{
  "nbformat": 4,
  "nbformat_minor": 0,
  "metadata": {
    "colab": {
      "provenance": []
    },
    "kernelspec": {
      "name": "python3",
      "display_name": "Python 3"
    },
    "language_info": {
      "name": "python"
    }
  },
  "cells": [
    {
      "cell_type": "code",
      "execution_count": null,
      "metadata": {
        "colab": {
          "base_uri": "https://localhost:8080/"
        },
        "id": "w6KekKLwZLnc",
        "outputId": "ef5cae8b-f337-4c1e-e3ac-dccc77812e22"
      },
      "outputs": [
        {
          "output_type": "stream",
          "name": "stdout",
          "text": [
            "[5 4 6 3 2 1]\n",
            "[5 4 6 3 2 1]\n"
          ]
        }
      ],
      "source": [
        "import numpy as np\n",
        "arr = np.array([1,2,3,6,4,5])\n",
        "arr2= np.flip(arr)\n",
        "print(arr2)\n",
        "\n",
        "# method 2\n",
        "rev = arr[: : -1]\n",
        "print(rev)\n"
      ]
    },
    {
      "cell_type": "code",
      "source": [
        "import numpy as np\n",
        "arr = np.array([[1,2,3],[2,4,5],[1,2,3]])\n",
        "# row wise flatten\n",
        "flat = arr.flatten(order = 'c')\n",
        "# column wise flatten\n",
        "cflat = arr.flatten(order='f')\n",
        "print(cflat)\n",
        "print(flat)\n",
        "\n",
        "# method 2\n",
        "flat2 = np.ravel(arr,'c')\n",
        "print(flat2)"
      ],
      "metadata": {
        "colab": {
          "base_uri": "https://localhost:8080/"
        },
        "id": "xvEBdjZlbAa3",
        "outputId": "4ef3c660-9b76-45b9-e1ac-acbbb1a7ab49"
      },
      "execution_count": null,
      "outputs": [
        {
          "output_type": "stream",
          "name": "stdout",
          "text": [
            "[1 2 1 2 4 2 3 5 3]\n",
            "[1 2 3 2 4 5 1 2 3]\n",
            "[1 2 3 2 4 5 1 2 3]\n"
          ]
        }
      ]
    },
    {
      "cell_type": "code",
      "source": [
        "import numpy as np\n",
        "arr1 = np.array([[1,2],[3,4]])\n",
        "arr2 = np.array([[1,2],[3,4]])\n",
        "comp = np.array_equal(arr1,arr2)\n",
        "print(comp)\n",
        "\n",
        "# method 2\n",
        "compare = np.array_equiv(arr1,arr2)\n",
        "print(compare)"
      ],
      "metadata": {
        "colab": {
          "base_uri": "https://localhost:8080/"
        },
        "id": "-uVNzOkqdeWj",
        "outputId": "cb261242-0019-4c20-c816-89e56443b4b8"
      },
      "execution_count": null,
      "outputs": [
        {
          "output_type": "stream",
          "name": "stdout",
          "text": [
            "True\n",
            "True\n"
          ]
        }
      ]
    },
    {
      "cell_type": "code",
      "source": [
        "import numpy as np\n",
        "x = np.array([1,2,3,4,5,1,2,1,1,1])\n",
        "frequency = np.bincount(x).argmax()\n",
        "print(frequency)\n",
        "\n",
        "y = np.array([1,1,1,2,3,4,2,4,3,3])\n",
        "frequ = np.bincount(y)\n",
        "maxi = max(frequ)\n",
        "for i in range(len(frequ)):\n",
        "  if frequ[i] == maxi:\n",
        "    print(i,\" \")\n"
      ],
      "metadata": {
        "colab": {
          "base_uri": "https://localhost:8080/"
        },
        "id": "8aMy3_OLeWXs",
        "outputId": "fa36eadc-464a-47a6-f0fc-2fffb9bb7b51"
      },
      "execution_count": null,
      "outputs": [
        {
          "output_type": "stream",
          "name": "stdout",
          "text": [
            "1\n",
            "1  \n",
            "3  \n"
          ]
        }
      ]
    },
    {
      "cell_type": "code",
      "source": [
        "import numpy as np\n",
        "gfg = np.matrix([[4,1,9],[12,3,1],[4,5,6]])\n",
        "sum = np.sum(gfg)\n",
        "print(sum)\n",
        "\n",
        "# 2nd part- row wise sum\n",
        "rsum = np.sum(gfg,axis=1)\n",
        "print(rsum)\n",
        "\n",
        "# 3rd part - column wise sum\n",
        "csum = np.sum(gfg, axis=0)\n",
        "print(csum)"
      ],
      "metadata": {
        "colab": {
          "base_uri": "https://localhost:8080/"
        },
        "id": "TVpuhD9ngT_-",
        "outputId": "e213df10-df13-4b12-86ab-2d6b422592db"
      },
      "execution_count": null,
      "outputs": [
        {
          "output_type": "stream",
          "name": "stdout",
          "text": [
            "45\n",
            "[[14]\n",
            " [16]\n",
            " [15]]\n",
            "[[20  9 16]]\n"
          ]
        }
      ]
    },
    {
      "cell_type": "code",
      "source": [
        "from ast import Yield\n",
        "import numpy as np\n",
        "n_array = np.array([[55,25,15],[30,44,2],[11,45,77]])\n",
        "# sum of diagonals\n",
        "diagsum = np.trace(n_array)\n",
        "print(diagsum)\n",
        "\n",
        "# eigen values and eigen vector\n",
        "value,vector = np.linalg.eig(n_array)\n",
        "print(value)\n",
        "print(vector)\n",
        "\n",
        "# inverse of matrix\n",
        "inverse = np.linalg.inv(n_array)\n",
        "print(inverse)\n",
        "\n",
        "\n",
        "# determinant of matrix\n",
        "deter = np.linalg.det(n_array)\n",
        "print(deter)\n"
      ],
      "metadata": {
        "colab": {
          "base_uri": "https://localhost:8080/"
        },
        "id": "TOfZ7S-Thq3H",
        "outputId": "444a22b9-1552-4d5c-dc0e-c09a6f0cf49a"
      },
      "execution_count": null,
      "outputs": [
        {
          "output_type": "stream",
          "name": "stdout",
          "text": [
            "176\n",
            "[98.16835147 28.097044   49.73460452]\n",
            "[[ 0.4574917   0.34637121 -0.15017693]\n",
            " [ 0.28447814 -0.72784061 -0.4852124 ]\n",
            " [ 0.84248058  0.59184038  0.8614034 ]]\n",
            "[[ 0.02404141 -0.00911212 -0.00444671]\n",
            " [-0.01667882  0.02966905  0.0024785 ]\n",
            " [ 0.00631287 -0.01603732  0.01217379]]\n",
            "137180.0000000001\n"
          ]
        }
      ]
    },
    {
      "cell_type": "code",
      "source": [
        "import numpy as np\n",
        "p = np.array([[1,2],[2,3]])\n",
        "q = np.array([[4,5],[6,7]])\n",
        "multiply = np.dot(p,q)\n",
        "print(multiply)\n",
        "covariance = np.cov(p,q)\n",
        "print(covariance)\n",
        "print(end = '\\n')\n",
        "\n",
        "# part 2\n",
        "x = np.array([[1,2],[2,3],[4,5]])\n",
        "y = np.array([[4,5,1],[6,7,2]])\n",
        "mult = np.dot(x,y)\n",
        "print(mult)\n",
        "x1 = x.flatten(order = 'c')\n",
        "y1 = y.flatten(order = 'c')\n",
        "covar = np.cov(x1,y1)\n",
        "print(covar)"
      ],
      "metadata": {
        "colab": {
          "base_uri": "https://localhost:8080/"
        },
        "id": "mAtuuy4kjR4q",
        "outputId": "be80e193-8fd3-4ff1-bbd8-c13573e3d354"
      },
      "execution_count": null,
      "outputs": [
        {
          "output_type": "stream",
          "name": "stdout",
          "text": [
            "[[16 19]\n",
            " [26 31]]\n",
            "[[0.5 0.5 0.5 0.5]\n",
            " [0.5 0.5 0.5 0.5]\n",
            " [0.5 0.5 0.5 0.5]\n",
            " [0.5 0.5 0.5 0.5]]\n",
            "\n",
            "[[16 19  5]\n",
            " [26 31  8]\n",
            " [46 55 14]]\n",
            "[[2.16666667 0.23333333]\n",
            " [0.23333333 5.36666667]]\n"
          ]
        }
      ]
    },
    {
      "cell_type": "code",
      "source": [
        "import numpy as np\n",
        "import itertools\n",
        "x = np.array([[2, 3, 4], [3, 2, 9]])\n",
        "y = np.array([[1, 5, 0], [5, 10, 3]])\n",
        "inner = np.inner(x,y)\n",
        "print(\"inner product\")\n",
        "print(inner)\n",
        "print(end='\\n')\n",
        "outer = np.outer(x,y)\n",
        "print(\"outer product\")\n",
        "print(outer)\n",
        "# cartesian product\n",
        "flatx = x.flatten()\n",
        "flaty = y.flatten()\n",
        "cp = np.array(list(itertools.product(flatx,flaty)))\n",
        "print(\"cartesian product\")\n",
        "print(cp)\n"
      ],
      "metadata": {
        "colab": {
          "base_uri": "https://localhost:8080/"
        },
        "id": "ZTSScdnzlym6",
        "outputId": "459c96eb-7c2b-4490-a3c3-95accc9f1e6c"
      },
      "execution_count": null,
      "outputs": [
        {
          "output_type": "stream",
          "name": "stdout",
          "text": [
            "inner product\n",
            "[[17 52]\n",
            " [13 62]]\n",
            "\n",
            "outer product\n",
            "[[ 2 10  0 10 20  6]\n",
            " [ 3 15  0 15 30  9]\n",
            " [ 4 20  0 20 40 12]\n",
            " [ 3 15  0 15 30  9]\n",
            " [ 2 10  0 10 20  6]\n",
            " [ 9 45  0 45 90 27]]\n",
            "cartesian product\n",
            "[[ 2  1]\n",
            " [ 2  5]\n",
            " [ 2  0]\n",
            " [ 2  5]\n",
            " [ 2 10]\n",
            " [ 2  3]\n",
            " [ 3  1]\n",
            " [ 3  5]\n",
            " [ 3  0]\n",
            " [ 3  5]\n",
            " [ 3 10]\n",
            " [ 3  3]\n",
            " [ 4  1]\n",
            " [ 4  5]\n",
            " [ 4  0]\n",
            " [ 4  5]\n",
            " [ 4 10]\n",
            " [ 4  3]\n",
            " [ 3  1]\n",
            " [ 3  5]\n",
            " [ 3  0]\n",
            " [ 3  5]\n",
            " [ 3 10]\n",
            " [ 3  3]\n",
            " [ 2  1]\n",
            " [ 2  5]\n",
            " [ 2  0]\n",
            " [ 2  5]\n",
            " [ 2 10]\n",
            " [ 2  3]\n",
            " [ 9  1]\n",
            " [ 9  5]\n",
            " [ 9  0]\n",
            " [ 9  5]\n",
            " [ 9 10]\n",
            " [ 9  3]]\n"
          ]
        }
      ]
    },
    {
      "cell_type": "code",
      "source": [
        "array = np.array([[1, -2, 3],[-4, 5, -6]])\n",
        "# element wise absolute value\n",
        "# (a)(i)\n",
        "absval = np.abs(array)\n",
        "print(\"element wise absolute value\")\n",
        "print(absval)\n",
        "\n",
        "# (a)(ii)\n",
        "# Find the 25th, 50th, and 75th percentile of flattened array, for each column, for each\n",
        "# row.\n",
        "flat = array.flatten()\n",
        "percent= np.percentile(flat,[25,50,75])\n",
        "print(\"percentile of array: \")\n",
        "print(percent)\n",
        "percentR = np.percentile(array,[25,50,75],axis = 1)\n",
        "print(\"percentile for each row: \")\n",
        "print(percentR)\n",
        "percentC = np.percentile(array,[25,50,75],axis = 0)\n",
        "print(\"percentile for each column: \")\n",
        "print(percentC)\n",
        "\n",
        "# (a)(iii)\n",
        "# Mean, Median and Standard Deviation of flattened array, of each column, and\n",
        "# each row\n",
        "meanF = np.mean(flat)\n",
        "print(\"mean of flattened array\")\n",
        "print(meanF)\n",
        "medianF = np.median(flat)\n",
        "print(\"median of flattened array\")\n",
        "print(medianF)\n",
        "stdF = np.std(flat)\n",
        "print(\"standard deviation of flattened array\")\n",
        "print(stdF)\n",
        "\n",
        "# for each row\n",
        "meanR = np.mean(array, axis=1)\n",
        "print(\"row wise mean\")\n",
        "print(meanR)\n",
        "medianR = np.median(array, axis=1)\n",
        "print(\"row wise median\")\n",
        "print(medianR)\n",
        "stdR = np.std(array, axis=1)\n",
        "print(\"row wise std dev\")\n",
        "print(stdR)\n",
        "\n",
        "# column wise\n",
        "meanC = np.mean(array, axis=0)\n",
        "print(\"column wise mean\")\n",
        "print(meanC)\n",
        "medianC = np.median(array, axis=0)\n",
        "print(\"column wise median\")\n",
        "print(medianC)\n",
        "stdC = np.std(array, axis=0)\n",
        "print(\"column wise std dev\")\n",
        "print(stdC)"
      ],
      "metadata": {
        "colab": {
          "base_uri": "https://localhost:8080/"
        },
        "id": "SOV37DypghSu",
        "outputId": "3a53a0de-1f5c-4f9a-f899-fb0940420bb6"
      },
      "execution_count": null,
      "outputs": [
        {
          "output_type": "stream",
          "name": "stdout",
          "text": [
            "element wise absolute value\n",
            "[[1 2 3]\n",
            " [4 5 6]]\n",
            "percentile of array: \n",
            "[-3.5 -0.5  2.5]\n",
            "percentile for each row: \n",
            "[[-0.5 -5. ]\n",
            " [ 1.  -4. ]\n",
            " [ 2.   0.5]]\n",
            "percentile for each column: \n",
            "[[-2.75 -0.25 -3.75]\n",
            " [-1.5   1.5  -1.5 ]\n",
            " [-0.25  3.25  0.75]]\n",
            "mean of flattened array\n",
            "-0.5\n",
            "median of flattened array\n",
            "-0.5\n",
            "standard deviation of flattened array\n",
            "3.8622100754188224\n",
            "row wise mean\n",
            "[ 0.66666667 -1.66666667]\n",
            "row wise median\n",
            "[ 1. -4.]\n",
            "row wise std dev\n",
            "[2.05480467 4.78423336]\n",
            "column wise mean\n",
            "[-1.5  1.5 -1.5]\n",
            "column wise median\n",
            "[-1.5  1.5 -1.5]\n",
            "column wise std dev\n",
            "[2.5 3.5 4.5]\n"
          ]
        }
      ]
    },
    {
      "cell_type": "code",
      "source": [
        "# For the array: a = np.array([-1.8, -1.6, -0.5, 0.5,1.6, 1.8, 3.0]). Find floor, ceiling\n",
        "# and truncated value, rounded values\n",
        "a = np.array([-1.8, -1.6, -0.5, 0.5,1.6, 1.8, 3.0])\n",
        "floor = np.floor(a)\n",
        "print(\"floor: \")\n",
        "print(floor)\n",
        "ceil = np.ceil(a)\n",
        "print(\"ceil: \")\n",
        "print(ceil)\n",
        "truncate = np.trunc(a)\n",
        "print(\"truncated values: \")\n",
        "print(truncate)\n",
        "round = np.round(a)\n",
        "print(\"rounded values: \")\n",
        "print(round)"
      ],
      "metadata": {
        "colab": {
          "base_uri": "https://localhost:8080/"
        },
        "id": "b_ukVJiRl9vY",
        "outputId": "6d165ab8-97cc-49f9-aa03-a326149b77fe"
      },
      "execution_count": null,
      "outputs": [
        {
          "output_type": "stream",
          "name": "stdout",
          "text": [
            "floor: \n",
            "[-2. -2. -1.  0.  1.  1.  3.]\n",
            "ceil: \n",
            "[-1. -1. -0.  1.  2.  2.  3.]\n",
            "truncated values: \n",
            "[-1. -1. -0.  0.  1.  1.  3.]\n",
            "rounded values: \n",
            "[-2. -2. -0.  0.  2.  2.  3.]\n"
          ]
        }
      ]
    },
    {
      "cell_type": "code",
      "source": [
        "# (a) For the array: array = np.array([10, 52, 62, 16, 16, 54, 453]), find\n",
        "# i. Sorted array\n",
        "array = np.array([10, 52, 62, 16, 16, 54, 453])\n",
        "sort = np.sort(array)\n",
        "print(\"sorted array: \")\n",
        "print(sort)\n",
        "# ii. Indices of sorted array\n",
        "# argsort gives actual indices of the sorted array\n",
        "indices = np.argsort(array)\n",
        "print(\"indices: \")\n",
        "print(indices)\n",
        "# iii. 4 smallest elements\n",
        "smallest4 = np.partition(array,4)[:4]\n",
        "print(\"4 smallest elements: \")\n",
        "smallest = np.sort(smallest4)\n",
        "print(smallest)\n",
        "# iv. 5 largest elements\n",
        "# -5 means peeche se 5elements\n",
        "largest5 = np.partition(array,-5)[-5:]\n",
        "print(\"5 largest elements: \")\n",
        "largest = np.sort(largest5)\n",
        "print(largest)\n",
        "\n",
        "# method 2 using argpartition -> this gives indices of largest elements\n",
        "lar = np.argpartition(array,-5)[-5:]\n",
        "print(\"method 2 find largest: \")\n",
        "print(array[lar])"
      ],
      "metadata": {
        "colab": {
          "base_uri": "https://localhost:8080/"
        },
        "id": "NSsXBsV5niMq",
        "outputId": "71ac90dc-241d-42d7-d86d-c436c97d8f82"
      },
      "execution_count": null,
      "outputs": [
        {
          "output_type": "stream",
          "name": "stdout",
          "text": [
            "sorted array: \n",
            "[ 10  16  16  52  54  62 453]\n",
            "indices: \n",
            "[0 3 4 1 5 2 6]\n",
            "4 smallest elements: \n",
            "[10 16 16 52]\n",
            "5 largest elements: \n",
            "[ 16  52  54  62 453]\n",
            "method 2 find largest: \n",
            "[ 16  52  62  54 453]\n"
          ]
        }
      ]
    },
    {
      "cell_type": "code",
      "source": [
        "# (b) For the array: array = np.array([1.0, 1.2, 2.2, 2.0, 3.0, 2.0]), find\n",
        "# i. Integer elements only\n",
        "array = np.array([1.0, 1.2, 2.2, 2.0, 3.0, 2.0])\n",
        "# floor of int values will be equal to integer itself\n",
        "intELE = array[np.floor(array)==array]\n",
        "print(\"integer values: \")\n",
        "print(intELE)\n",
        "\n",
        "# ii. Float elements only\n",
        "floatELE = array[np.floor(array)!=array]\n",
        "print(\"float elements : \")\n",
        "print(floatELE)"
      ],
      "metadata": {
        "colab": {
          "base_uri": "https://localhost:8080/"
        },
        "id": "0UiNA2czr5bs",
        "outputId": "bd5b6be8-4e76-4287-cd08-4de9f1ec036f"
      },
      "execution_count": null,
      "outputs": [
        {
          "output_type": "stream",
          "name": "stdout",
          "text": [
            "integer values: \n",
            "[1. 2. 3. 2.]\n",
            "float elements : \n",
            "[1.2 2.2]\n"
          ]
        }
      ]
    },
    {
      "cell_type": "code",
      "source": [
        "# from PIL import Image\n",
        "# path = \"image_to_array.jpg\"\n",
        "# import numpy as np\n",
        "# def img_to_arr(path):\n",
        "#   image = Image.open(path)\n",
        "#   if image.mode == 'L':\n",
        "#      # grayscale image\n",
        "#      array = np.array(image)\n",
        "#      np.savetxt('grayscale_image.txt',array,fmt='%d')\n",
        "#      print(\"grayscale image saved to 'grayscale_image.txt'\")\n",
        "#   elif image.mode =='RGB':\n",
        "#     array = np.array(image)\n",
        "#     with open('rgb_image.txt','w')as f:\n",
        "#       for row in array:\n",
        "#         np.savetxt(f,row,fmt='%d')\n",
        "#         f.write('\\n')\n",
        "#     print(\"RGB image saved to 'rgb_image.txt'\")\n",
        "#   else:\n",
        "#     print(\"unsupported image mode\")\n",
        "\n"
      ],
      "metadata": {
        "id": "DFcJGkVU0UPg"
      },
      "execution_count": 3,
      "outputs": []
    },
    {
      "cell_type": "code",
      "source": [
        "from PIL import Image\n",
        "import numpy as np\n",
        "\n",
        "def img_to_array(path):\n",
        "    img = Image.open(path)\n",
        "\n",
        "    if img.mode == 'L':  # Grayscale\n",
        "        img_array = np.array(img)\n",
        "        mode = 'L'\n",
        "    else:  # RGB\n",
        "        img_array = np.array(img)\n",
        "        mode = 'RGB'\n",
        "\n",
        "    file_name = path.split('/')[-1].split('.')[0] + '_array.txt'\n",
        "    with open(file_name, 'w') as f:\n",
        "        f.write(f'{mode}\\n')\n",
        "        f.write(f'{img_array.shape}\\n')\n",
        "        np.savetxt(f, img_array.flatten(), fmt='%d')\n",
        "\n",
        "    print(f'Image array saved to {file_name}')\n",
        "    return file_name"
      ],
      "metadata": {
        "id": "PyO9JgpZDAbE"
      },
      "execution_count": 6,
      "outputs": []
    },
    {
      "cell_type": "code",
      "source": [
        "\n",
        "def load_image_array(file_name):\n",
        "    with open(file_name, 'r') as f:\n",
        "        mode = f.readline().strip()\n",
        "        shape = tuple(map(int, f.readline().strip()[1:-1].split(',')))\n",
        "        img_array = np.loadtxt(f, dtype=int)\n",
        "\n",
        "    img_array = img_array.reshape(shape)\n",
        "\n",
        "    return img_array"
      ],
      "metadata": {
        "id": "cXzOH5NqDGnb"
      },
      "execution_count": 7,
      "outputs": []
    },
    {
      "cell_type": "code",
      "source": [
        "\n",
        "file_name = img_to_array('image_to_array.jpg')\n",
        "\n",
        "img_array = load_image_array(file_name)\n",
        "\n",
        "import matplotlib.pyplot as plt\n",
        "\n",
        "if img_array.ndim == 2:  # Grayscale\n",
        "    plt.imshow(img_array, cmap='gray')\n",
        "    print('gray')\n",
        "else:  # RGB\n",
        "    plt.imshow(img_array)\n",
        "    print('rgb')\n",
        "plt.show()\n"
      ],
      "metadata": {
        "colab": {
          "base_uri": "https://localhost:8080/"
        },
        "id": "rViEH7F3DK8w",
        "outputId": "c4b76fc4-09ef-4142-bf70-96789d85635c"
      },
      "execution_count": 9,
      "outputs": [
        {
          "output_type": "stream",
          "name": "stdout",
          "text": [
            "Image array saved to image_to_array_array.txt\n",
            "rgb\n"
          ]
        }
      ]
    }
  ]
}